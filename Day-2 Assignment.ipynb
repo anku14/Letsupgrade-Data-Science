{
 "cells": [
  {
   "cell_type": "code",
   "execution_count": 5,
   "metadata": {},
   "outputs": [
    {
     "name": "stdout",
     "output_type": "stream",
     "text": [
      "2\n",
      "4\n",
      "6\n",
      "8\n",
      "1\n",
      "3\n",
      "5\n",
      "7\n",
      "9\n",
      "11\n",
      "[2, 4, 6, 8]\n"
     ]
    }
   ],
   "source": [
    "#Questions 1:\n",
    "Lst=[]\n",
    "for _ in range(10):\n",
    "    n=int(input())\n",
    "    if n%2==0:\n",
    "        Lst.append(n)\n",
    "print(Lst)        "
   ]
  },
  {
   "cell_type": "code",
   "execution_count": 6,
   "metadata": {},
   "outputs": [
    {
     "name": "stdout",
     "output_type": "stream",
     "text": [
      "[0, 1, 4, 9, 16, 25, 36, 49, 64, 81]\n",
      "['L', 'e', 't', 's', 'U', 'p', 'g', 'r', 'a', 'd', 'e']\n"
     ]
    }
   ],
   "source": [
    "#Question 2:\n",
    "list1=[i**2 for i in range(10)]\n",
    "list2=[i for i in \"LetsUpgrade\"]\n",
    "print(list1)\n",
    "print(list2)"
   ]
  },
  {
   "cell_type": "code",
   "execution_count": 9,
   "metadata": {},
   "outputs": [
    {
     "name": "stdout",
     "output_type": "stream",
     "text": [
      "4\n",
      "{1: 1, 2: 4, 3: 9, 4: 16}\n"
     ]
    }
   ],
   "source": [
    "#Question 3:\n",
    "Dict={}\n",
    "Num=int(input())\n",
    "for i in range(1,Num+1):\n",
    "    Dict[i]=i**2\n",
    "print(Dict)"
   ]
  },
  {
   "cell_type": "code",
   "execution_count": null,
   "metadata": {},
   "outputs": [],
   "source": [
    "#Question 4:\n",
    "p=[0,0]\n",
    "print(\"Input:\")\n",
    "n=int(input())\n",
    "for i in range(n):\n",
    "    print(\"UP\",end=\" \")\n",
    "    up=int(input())\n",
    "    p[1]+=up\n",
    "    print(\"DOWN\",end=\" \")\n",
    "    down=int(input())\n",
    "    p[1]-=down\n",
    "    print(\"LEFT\",end=\" \")\n",
    "    left=int(input())\n",
    "    p[0]-=left\n",
    "    print(\"RIGHT\",end=\" \")\n",
    "    right=int(input())\n",
    "    p[0]+=right\n",
    "    n-=1\n",
    "dist=int(((p[0]**2)+(p[1]**2))**(1/2))\n",
    "print(\"Output:\")\n",
    "print(dist)"
   ]
  },
  {
   "cell_type": "code",
   "execution_count": null,
   "metadata": {},
   "outputs": [],
   "source": []
  }
 ],
 "metadata": {
  "kernelspec": {
   "display_name": "Python 3",
   "language": "python",
   "name": "python3"
  },
  "language_info": {
   "codemirror_mode": {
    "name": "ipython",
    "version": 3
   },
   "file_extension": ".py",
   "mimetype": "text/x-python",
   "name": "python",
   "nbconvert_exporter": "python",
   "pygments_lexer": "ipython3",
   "version": "3.7.6"
  }
 },
 "nbformat": 4,
 "nbformat_minor": 4
}
