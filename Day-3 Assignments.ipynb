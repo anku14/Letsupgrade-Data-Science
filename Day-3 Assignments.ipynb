{
 "cells": [
  {
   "cell_type": "code",
   "execution_count": 1,
   "metadata": {},
   "outputs": [
    {
     "name": "stdout",
     "output_type": "stream",
     "text": [
      "[ 2  5  8 11 14 17 20 23 26 29 32 35 38 41 44 47]\n"
     ]
    }
   ],
   "source": [
    "#Question 1:\n",
    "import numpy as np\n",
    "arr=np.arange(2,50,3)\n",
    "print(arr)"
   ]
  },
  {
   "cell_type": "code",
   "execution_count": 2,
   "metadata": {},
   "outputs": [
    {
     "name": "stdout",
     "output_type": "stream",
     "text": [
      "Elements List 1:\n",
      "2\n",
      "4\n",
      "5\n",
      "6\n",
      "7\n",
      "Elements List 2:\n",
      "9\n",
      "10\n",
      "11\n",
      "4\n",
      "5\n",
      "[2, 4, 5, 6, 7] <class 'list'>\n",
      "[9, 10, 11, 4, 5] <class 'list'>\n",
      "[2 4 5 6 7] <class 'numpy.ndarray'>\n",
      "[ 9 10 11  4  5] <class 'numpy.ndarray'>\n",
      "[ 2  4  5  6  7  9 10 11  4  5]\n",
      "[ 2  4  4  5  5  6  7  9 10 11]\n"
     ]
    }
   ],
   "source": [
    "#Question 2:\n",
    "import numpy as np\n",
    "a1=[] \n",
    "a2=[]\n",
    "\n",
    "print(\"Elements List 1:\")\n",
    "for i in range(0, 5):\n",
    "    ele = int(input())\n",
    "    a1.append(ele)\n",
    "print(\"Elements List 2:\")\n",
    "for i in range(0, 5):\n",
    "    ele = int(input())\n",
    "    a2.append(ele) \n",
    "print(a1,type(a1))\n",
    "print(a2,type(a2))\n",
    "a1 = np.array(a1)\n",
    "a2 = np.array(a2)\n",
    "print(a1,type(a1))\n",
    "print(a2,type(a2))\n",
    "print(np.concatenate((a1,a2)))\n",
    "print(np.sort(np.concatenate((a1,a2))))"
   ]
  },
  {
   "cell_type": "code",
   "execution_count": 7,
   "metadata": {},
   "outputs": [
    {
     "name": "stdout",
     "output_type": "stream",
     "text": [
      "Size of Array:  6\n",
      "Dimension of Array:  2\n"
     ]
    }
   ],
   "source": [
    "#Question 3\n",
    "import numpy as np\n",
    "arr=np.array([[1,2],[2,4],[5,7]])\n",
    "print(\"Size of Array: \",arr.size)\n",
    "print(\"Dimension of Array: \",arr.ndim)"
   ]
  },
  {
   "cell_type": "code",
   "execution_count": null,
   "metadata": {},
   "outputs": [],
   "source": []
  },
  {
   "cell_type": "code",
   "execution_count": 10,
   "metadata": {},
   "outputs": [
    {
     "name": "stdout",
     "output_type": "stream",
     "text": [
      "[[ 0  1  2  3  4  5  6  7  8  9 10 11]]\n",
      "[[ 0]\n",
      " [ 1]\n",
      " [ 2]\n",
      " [ 3]\n",
      " [ 4]\n",
      " [ 5]\n",
      " [ 6]\n",
      " [ 7]\n",
      " [ 8]\n",
      " [ 9]\n",
      " [10]\n",
      " [11]]\n",
      "[[ 0  1  2  3  4  5  6  7  8  9 10 11]]\n",
      "[[ 0]\n",
      " [ 1]\n",
      " [ 2]\n",
      " [ 3]\n",
      " [ 4]\n",
      " [ 5]\n",
      " [ 6]\n",
      " [ 7]\n",
      " [ 8]\n",
      " [ 9]\n",
      " [10]\n",
      " [11]]\n"
     ]
    }
   ],
   "source": [
    "#Question 4:\n",
    "import numpy as np\n",
    "arr=np.arange(12)\n",
    "arr1=arr[np.newaxis,:]\n",
    "arr2=arr[:,np.newaxis]\n",
    "print(arr1)\n",
    "print(arr2)\n",
    "arr1=np.expand_dims(arr, axis = 0) \n",
    "arr2=np.expand_dims(arr, axis = 1) \n",
    "print(arr1)\n",
    "print(arr2)\n"
   ]
  },
  {
   "cell_type": "code",
   "execution_count": 11,
   "metadata": {},
   "outputs": [
    {
     "name": "stdout",
     "output_type": "stream",
     "text": [
      "Vertically stacked: \n",
      " [[0. 1. 2.]\n",
      " [3. 4. 5.]\n",
      " [6. 7. 8.]\n",
      " [1. 1. 1.]\n",
      " [1. 1. 1.]\n",
      " [1. 1. 1.]]\n",
      "Horizontally stacked: \n",
      " [[0. 1. 2. 1. 1. 1.]\n",
      " [3. 4. 5. 1. 1. 1.]\n",
      " [6. 7. 8. 1. 1. 1.]]\n"
     ]
    }
   ],
   "source": [
    "#Question 5:\n",
    "import numpy as np\n",
    "a=np.arange(9).reshape(3,3)\n",
    "b=np.ones(9).reshape(3,3)\n",
    "c=np.vstack((a,b))\n",
    "print(\"Vertically stacked: \\n\",c)\n",
    "d=np.hstack((a,b))\n",
    "print(\"Horizontally stacked: \\n\",d)"
   ]
  },
  {
   "cell_type": "code",
   "execution_count": 12,
   "metadata": {},
   "outputs": [
    {
     "name": "stdout",
     "output_type": "stream",
     "text": [
      "(array([1, 2, 3, 4, 5, 6, 7, 8, 9]), array([2, 2, 2, 1, 2, 3, 2, 2, 3], dtype=int64))\n"
     ]
    }
   ],
   "source": [
    "import numpy as np\n",
    "arr = np.array([1,9,3,1,5,2,5,6,4,3,9,7,6,8,9,2,6,7,8])\n",
    "print(np.unique(arr,return_counts=True))"
   ]
  },
  {
   "cell_type": "code",
   "execution_count": null,
   "metadata": {},
   "outputs": [],
   "source": []
  }
 ],
 "metadata": {
  "kernelspec": {
   "display_name": "Python 3",
   "language": "python",
   "name": "python3"
  },
  "language_info": {
   "codemirror_mode": {
    "name": "ipython",
    "version": 3
   },
   "file_extension": ".py",
   "mimetype": "text/x-python",
   "name": "python",
   "nbconvert_exporter": "python",
   "pygments_lexer": "ipython3",
   "version": "3.7.6"
  }
 },
 "nbformat": 4,
 "nbformat_minor": 4
}
